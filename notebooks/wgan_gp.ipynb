{
 "cells": [
  {
   "cell_type": "markdown",
   "id": "20096e13-ba62-429c-84b4-251bf5c075b7",
   "metadata": {},
   "source": [
    "# Wasserstein GAN with Gradient Penalty (WGAN-GP)"
   ]
  },
  {
   "cell_type": "markdown",
   "id": "e4967cf2-d365-4832-8386-7486ec5420bc",
   "metadata": {},
   "source": [
    "__Objective:__ explore WGAN-GP models.\n",
    "\n",
    "__Source:__ [notebook](https://github.com/davidADSP/Generative_Deep_Learning_2nd_Edition/blob/main/notebooks/04_gan/02_wgan_gp/wgan_gp.ipynb) (in turns inspired by this [Keras example](https://keras.io/examples/generative/wgan_gp/))."
   ]
  },
  {
   "cell_type": "code",
   "execution_count": null,
   "id": "d596a6aa-705d-45bb-8330-05017108d347",
   "metadata": {},
   "outputs": [],
   "source": [
    "import os\n",
    "import sys\n",
    "import datetime\n",
    "import tensorflow as tf\n",
    "import matplotlib.pyplot as plt\n",
    "import seaborn as sns\n",
    "\n",
    "sys.path.append('../modules/')\n",
    "\n",
    "from utils import (preprocess_image, inverse_preprocessing,\n",
    "    get_latest_model_logs_dir, select_model_logs_dir, DATETIME_FORMAT)\n",
    "from wgan_gp_critic import Critic\n",
    "from generator import Generator\n",
    "from wgan_gp import WGANGP\n",
    "\n",
    "sys.path.append('../../bayesian-explorations/modules/')\n",
    "\n",
    "from keras_utilities import append_to_full_history, plot_history\n",
    "\n",
    "sns.set_theme()\n",
    "\n",
    "%load_ext autoreload\n",
    "%autoreload 2"
   ]
  },
  {
   "cell_type": "code",
   "execution_count": null,
   "id": "49314af1-374d-462e-a94c-18da308da127",
   "metadata": {},
   "outputs": [],
   "source": [
    "DATA_DIR = '../data/dataset/'\n",
    "LOGS_DIR = '../logs/'"
   ]
  },
  {
   "cell_type": "markdown",
   "id": "563e478a-231d-422e-b40d-90d9d8f7ad60",
   "metadata": {},
   "source": [
    "## Load data"
   ]
  },
  {
   "cell_type": "code",
   "execution_count": null,
   "id": "53a7e8bf-61ec-4ecd-a9b7-6a0c008883eb",
   "metadata": {},
   "outputs": [],
   "source": [
    "training_data = tf.keras.utils.image_dataset_from_directory(\n",
    "    directory=DATA_DIR,\n",
    "    labels=None,\n",
    "    color_mode='grayscale',\n",
    "    batch_size=128,\n",
    "    image_size=(64, 64),\n",
    ")\n",
    "\n",
    "training_data = training_data.repeat()\n",
    "\n",
    "# Preprocess the data.\n",
    "training_data = training_data.map(lambda img: preprocess_image(img))"
   ]
  },
  {
   "cell_type": "code",
   "execution_count": null,
   "id": "7b08505f-15bd-4d98-be50-da34dde63134",
   "metadata": {},
   "outputs": [],
   "source": [
    "n_images = 3\n",
    "\n",
    "fig, axs = plt.subplots(nrows=1, ncols=n_images, figsize=(14, 6))\n",
    "\n",
    "image_batch = next(iter(training_data))\n",
    "\n",
    "for i in range(n_images):\n",
    "    axs[i].imshow(\n",
    "        image_batch[i, ...].numpy(),\n",
    "        cmap='gray'\n",
    "    )\n",
    "\n",
    "    axs[i].grid(False)"
   ]
  },
  {
   "cell_type": "markdown",
   "id": "66ea5bf7-4497-41b4-b8e3-96cb129278ef",
   "metadata": {},
   "source": [
    "## Instantiate the critic part of the model"
   ]
  },
  {
   "cell_type": "code",
   "execution_count": null,
   "id": "6dce167e-56b7-43b0-8320-de5e9a90ada4",
   "metadata": {},
   "outputs": [],
   "source": [
    "critic = Critic()"
   ]
  },
  {
   "cell_type": "code",
   "execution_count": null,
   "id": "980fa102-7991-4d2f-8b27-906a5494c20d",
   "metadata": {},
   "outputs": [],
   "source": [
    "# Test the forward pass.\n",
    "test_batch = next(iter(training_data))\n",
    "\n",
    "critic(test_batch[:5])"
   ]
  },
  {
   "cell_type": "code",
   "execution_count": null,
   "id": "19e558ca-ccc7-4026-8c2c-e7596cfe4a87",
   "metadata": {},
   "outputs": [],
   "source": [
    "critic.summary()"
   ]
  },
  {
   "cell_type": "markdown",
   "id": "cfea2dc4-142a-4571-ae7b-823b8b9cf1db",
   "metadata": {},
   "source": [
    "## Instantiate the generator part of the model"
   ]
  },
  {
   "cell_type": "markdown",
   "id": "e35d5dd6-4d0f-4537-b678-bc72ab19c749",
   "metadata": {},
   "source": [
    "The generator architecture is the same as the one used for the usual GAN."
   ]
  },
  {
   "cell_type": "code",
   "execution_count": null,
   "id": "69f371c8-57a4-40db-8281-053b59ea2b17",
   "metadata": {},
   "outputs": [],
   "source": [
    "generator = Generator()"
   ]
  },
  {
   "cell_type": "code",
   "execution_count": null,
   "id": "d3aa7514-4ffc-4110-9854-214d4de262d2",
   "metadata": {},
   "outputs": [],
   "source": [
    "# Test generating images (untrained generator).\n",
    "n_images = 3\n",
    "\n",
    "fig, axs = plt.subplots(nrows=1, ncols=n_images, figsize=(14, 6))\n",
    "\n",
    "generated_images = inverse_preprocessing(generator(tf.random.normal(shape=(3, 100))))\n",
    "\n",
    "for i in range(n_images):\n",
    "    axs[i].imshow(\n",
    "        generated_images[i, ...].numpy(),\n",
    "        cmap='gray'\n",
    "    )\n",
    "\n",
    "    axs[i].grid(False)"
   ]
  },
  {
   "cell_type": "code",
   "execution_count": null,
   "id": "f90a5863-768b-4f2f-9505-3fda0e90332b",
   "metadata": {},
   "outputs": [],
   "source": [
    "generator(tf.random.normal(shape=(3, 100)))\n",
    "\n",
    "generator.summary()"
   ]
  },
  {
   "cell_type": "markdown",
   "id": "63b5c902-8adf-437b-adcd-a68999bd919a",
   "metadata": {},
   "source": [
    "# Full WGAN-GP model"
   ]
  },
  {
   "cell_type": "markdown",
   "id": "54477122-755a-4460-9756-9260b83e55af",
   "metadata": {},
   "source": [
    "Create and train the full WGAN-GP model."
   ]
  },
  {
   "cell_type": "code",
   "execution_count": null,
   "id": "8a0efffe-97f4-4cc3-93ee-dd046a065434",
   "metadata": {},
   "outputs": [],
   "source": [
    "wgangp_model = WGANGP(\n",
    "    critic=critic,\n",
    "    generator=generator,\n",
    "    latent_dim=100,\n",
    "    critic_steps=3,\n",
    "    gp_weight=10.\n",
    ")\n",
    "\n",
    "# Create empty `History` object (with training history data to be\n",
    "# appended to it).\n",
    "full_history = tf.keras.callbacks.History()\n",
    "\n",
    "# Create a model logs directory for Tensorboard.\n",
    "model_logs_dir = select_model_logs_dir(LOGS_DIR, append_to_latest_logs=True)\n",
    "\n",
    "tensorboard_callback = tf.keras.callbacks.TensorBoard(log_dir=model_logs_dir)"
   ]
  },
  {
   "cell_type": "code",
   "execution_count": null,
   "id": "edbc224e-38f6-4089-ad08-74f41257f571",
   "metadata": {},
   "outputs": [],
   "source": [
    "wgangp_model.compile(\n",
    "    c_optimizer=tf.keras.optimizers.Adam(beta_1=0.9, beta_2=0.999),\n",
    "    g_optimizer=tf.keras.optimizers.Adam(beta_1=0.9, beta_2=0.999)\n",
    ")"
   ]
  },
  {
   "cell_type": "markdown",
   "id": "d28850af-f3e8-4eeb-9b9a-8402855997ab",
   "metadata": {},
   "source": [
    "Test fitting the model.\n",
    "\n",
    "**Warning:** this may take a long time on an average machine!"
   ]
  },
  {
   "cell_type": "code",
   "execution_count": null,
   "id": "ba2a22da-cf37-4a78-8680-b3b66d03b14f",
   "metadata": {},
   "outputs": [],
   "source": [
    "training_history = wgangp_model.fit(\n",
    "    training_data,\n",
    "    epochs=1,\n",
    "    steps_per_epoch=5,\n",
    "    callbacks=[tensorboard_callback]\n",
    ")\n",
    "\n",
    "append_to_full_history(training_history, full_history)"
   ]
  },
  {
   "cell_type": "code",
   "execution_count": null,
   "id": "735052f4-0389-40d3-8528-098c876a0c27",
   "metadata": {},
   "outputs": [],
   "source": [
    "plot_history(full_history)"
   ]
  },
  {
   "cell_type": "markdown",
   "id": "5f5eec69-92be-42f8-b6b8-d07eed8c410f",
   "metadata": {},
   "source": [
    "Save the model."
   ]
  },
  {
   "cell_type": "code",
   "execution_count": null,
   "id": "901f6c06-7250-43c4-9ef5-314170bae8b7",
   "metadata": {},
   "outputs": [],
   "source": [
    "saved_model_path = '../models/test_wgan_gp.keras'\n",
    "\n",
    "wgangp_model.save(saved_model_path)"
   ]
  },
  {
   "cell_type": "code",
   "execution_count": null,
   "id": "74cbc7bb-551b-42e9-a6f3-845bbe83a729",
   "metadata": {},
   "outputs": [],
   "source": [
    "# saved_model_path = '../models/20231116_155027.keras'\n",
    "\n",
    "# loaded_model = tf.keras.models.load_model(saved_model_path)"
   ]
  },
  {
   "cell_type": "markdown",
   "id": "53ea7e9c-e845-4aa5-aad0-3ec132f3bf33",
   "metadata": {},
   "source": [
    "## Generate fake images"
   ]
  },
  {
   "cell_type": "code",
   "execution_count": null,
   "id": "cb3601f5-bcb5-4f48-957b-28d5d35e761c",
   "metadata": {},
   "outputs": [],
   "source": [
    "n_images = 3\n",
    "\n",
    "fig, axs = plt.subplots(nrows=1, ncols=n_images, figsize=(14, 6))\n",
    "\n",
    "images_plot = inverse_preprocessing(wgangp_model.generator(tf.random.normal(shape=(3, 100))))\n",
    "\n",
    "for i in range(n_images):\n",
    "    axs[i].imshow(\n",
    "        images_plot[i, ...].numpy(),\n",
    "        cmap='gray'\n",
    "    )\n",
    "\n",
    "    axs[i].grid(False)"
   ]
  }
 ],
 "metadata": {
  "kernelspec": {
   "display_name": "Python 3 (ipykernel)",
   "language": "python",
   "name": "python3"
  },
  "language_info": {
   "codemirror_mode": {
    "name": "ipython",
    "version": 3
   },
   "file_extension": ".py",
   "mimetype": "text/x-python",
   "name": "python",
   "nbconvert_exporter": "python",
   "pygments_lexer": "ipython3",
   "version": "3.10.13"
  }
 },
 "nbformat": 4,
 "nbformat_minor": 5
}
