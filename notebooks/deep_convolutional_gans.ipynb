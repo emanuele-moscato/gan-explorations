{
 "cells": [
  {
   "cell_type": "markdown",
   "id": "a224e397-d80a-40b2-932c-06a2dde331a5",
   "metadata": {},
   "source": [
    "# Deep convolutional GANs (DCGANs)"
   ]
  },
  {
   "cell_type": "markdown",
   "id": "d5ec9bfb-95bf-4fba-a406-12c9a2b51d65",
   "metadata": {},
   "source": [
    "__Objective:__ explore image generation with Generative Adversarial Networks (GANs) using the Bricks dataset.\n",
    "\n",
    "__Source:__ [notebook](https://github.com/davidADSP/Generative_Deep_Learning_2nd_Edition/blob/main/notebooks/04_gan/01_dcgan/dcgan.ipynb)."
   ]
  },
  {
   "cell_type": "code",
   "execution_count": null,
   "id": "d833f3a2-a79f-4131-877a-ffd7c5ae0e7c",
   "metadata": {},
   "outputs": [],
   "source": [
    "import sys\n",
    "from datetime import datetime, timedelta\n",
    "import tensorflow as tf\n",
    "import matplotlib.pyplot as plt\n",
    "import seaborn as sns\n",
    "\n",
    "sys.path.append('../modules/')\n",
    "\n",
    "from discriminator import Discriminator\n",
    "\n",
    "sns.set_theme()\n",
    "\n",
    "%load_ext autoreload\n",
    "%autoreload 2"
   ]
  },
  {
   "cell_type": "markdown",
   "id": "1790de87-75fb-47c9-8983-1fa83fa16257",
   "metadata": {},
   "source": [
    "## Load data"
   ]
  },
  {
   "cell_type": "code",
   "execution_count": null,
   "id": "fdad287d-4402-406c-a151-a51744d8c8d3",
   "metadata": {},
   "outputs": [],
   "source": [
    "def preprocess_image(image, MAX_VALUE=128.):\n",
    "    \"\"\"\n",
    "    Standardizes the pixel vlaues of images.\n",
    "    \"\"\"\n",
    "    return (tf.cast(image, dtype=tf.float32) - MAX_VALUE) / MAX_VALUE"
   ]
  },
  {
   "cell_type": "code",
   "execution_count": null,
   "id": "293a62b0-84df-4253-a7e4-0d85c41a55d2",
   "metadata": {},
   "outputs": [],
   "source": [
    "data_dir = '../data/dataset/'"
   ]
  },
  {
   "cell_type": "code",
   "execution_count": null,
   "id": "76a23ee9-772d-452d-9cca-4d5093f98641",
   "metadata": {},
   "outputs": [],
   "source": [
    "training_data = tf.keras.utils.image_dataset_from_directory(\n",
    "    directory=data_dir,\n",
    "    labels=None,\n",
    "    color_mode=\"grayscale\",\n",
    "    shuffle=True,\n",
    "    image_size=(64, 64),\n",
    "    interpolation='bilinear',\n",
    "    batch_size=128\n",
    ")"
   ]
  },
  {
   "cell_type": "markdown",
   "id": "c1e996ad-2dcd-4235-91b2-de17a2a0a946",
   "metadata": {},
   "source": [
    "Preprocess images."
   ]
  },
  {
   "cell_type": "code",
   "execution_count": null,
   "id": "1cf05608-6f7b-43b6-b95d-ce7fcbeae2d7",
   "metadata": {},
   "outputs": [],
   "source": [
    "training_data = training_data.map(lambda img: preprocess_image(img))"
   ]
  },
  {
   "cell_type": "markdown",
   "id": "7bb7ccd8-b350-4072-b2ec-f6e1b02b6d38",
   "metadata": {},
   "source": [
    "Plot some random images."
   ]
  },
  {
   "cell_type": "code",
   "execution_count": null,
   "id": "4705a2a7-7e9d-48c3-8f19-fabcae35a0ed",
   "metadata": {},
   "outputs": [],
   "source": [
    "ncols = 3\n",
    "\n",
    "fig, axs = plt.subplots(nrows=1, ncols=ncols, figsize=(14, 6))\n",
    "\n",
    "for col in range(ncols):\n",
    "    image_plot = next(iter(training_data))[0, ...]\n",
    "    \n",
    "    axs[col].imshow(\n",
    "        image_plot,\n",
    "        cmap='gray'\n",
    "    )\n",
    "\n",
    "    axs[col].grid(False)"
   ]
  },
  {
   "cell_type": "markdown",
   "id": "f1969517-de9d-41df-88dd-53719018d814",
   "metadata": {},
   "source": [
    "## Build the model"
   ]
  },
  {
   "cell_type": "markdown",
   "id": "0e387cf0-81e4-4e80-aba8-1ebaa56b21cf",
   "metadata": {},
   "source": [
    "### Discriminator"
   ]
  },
  {
   "cell_type": "code",
   "execution_count": null,
   "id": "485f249b-30ca-4af4-ab18-88fdbd190d86",
   "metadata": {},
   "outputs": [],
   "source": [
    "discriminator = Discriminator()"
   ]
  },
  {
   "cell_type": "code",
   "execution_count": null,
   "id": "f65cd841-9287-43c5-b88e-08c405c7d6e7",
   "metadata": {},
   "outputs": [],
   "source": [
    "# Test on an image.\n",
    "discriminator(next(iter(training_data)))\n",
    "\n",
    "discriminator.summary()"
   ]
  },
  {
   "cell_type": "markdown",
   "id": "f028d6c5-044b-45bd-9340-c96fe4cb2ea1",
   "metadata": {},
   "source": [
    "### Generator"
   ]
  },
  {
   "cell_type": "code",
   "execution_count": null,
   "id": "9e0d623a-6054-4a3b-af19-a276c3e2911f",
   "metadata": {},
   "outputs": [],
   "source": [
    "from generator import Generator"
   ]
  },
  {
   "cell_type": "code",
   "execution_count": null,
   "id": "fe93fa2c-e4a4-4b69-9aa9-6d9f178ffbe3",
   "metadata": {},
   "outputs": [],
   "source": [
    "generator = Generator()"
   ]
  },
  {
   "cell_type": "code",
   "execution_count": null,
   "id": "0201a166-fd08-40c5-8958-e52272ec7b8b",
   "metadata": {},
   "outputs": [],
   "source": [
    "# Test the generator.\n",
    "test_gen_input = tf.random.uniform(shape=(1, 100))\n",
    "\n",
    "generator(test_gen_input)"
   ]
  },
  {
   "cell_type": "code",
   "execution_count": null,
   "id": "827f9da1-5cbd-4e1e-b393-bd41180c24f5",
   "metadata": {},
   "outputs": [],
   "source": [
    "generator.summary()"
   ]
  },
  {
   "cell_type": "markdown",
   "id": "3175f724-5dbb-4fe2-be37-6966c4a5259f",
   "metadata": {},
   "source": [
    "### Full DCGAN"
   ]
  },
  {
   "cell_type": "code",
   "execution_count": null,
   "id": "dbdd6bf7-76cd-40ad-a2ef-6010216417ff",
   "metadata": {},
   "outputs": [],
   "source": [
    "from gan import DCGAN"
   ]
  },
  {
   "cell_type": "code",
   "execution_count": null,
   "id": "cd96ceb0-d66e-4a71-854d-002250b9c1e7",
   "metadata": {},
   "outputs": [],
   "source": [
    "dcgan_model = DCGAN(\n",
    "    discriminator=discriminator,\n",
    "    generator=generator,\n",
    "    latent_dim=100\n",
    ")"
   ]
  },
  {
   "cell_type": "code",
   "execution_count": null,
   "id": "f6b88efa-8830-4e41-999d-16c596332bf6",
   "metadata": {},
   "outputs": [],
   "source": [
    "g_optimizer = tf.keras.optimizers.SGD(learning_rate=1e-2)\n",
    "d_optimizer = tf.keras.optimizers.SGD(learning_rate=1e-2)\n",
    "\n",
    "dcgan_model.compile(d_optimizer=d_optimizer, g_optimizer=g_optimizer)"
   ]
  },
  {
   "cell_type": "markdown",
   "id": "83f146e7-8cb3-4721-91ec-66a343c4d5d6",
   "metadata": {},
   "source": [
    "Test a single training step."
   ]
  },
  {
   "cell_type": "code",
   "execution_count": null,
   "id": "0057e918-8c11-4fa3-96a0-996d4495d460",
   "metadata": {},
   "outputs": [],
   "source": [
    "training_step_counter = 0\n",
    "\n",
    "time_deltas = []\n",
    "training_history = []"
   ]
  },
  {
   "cell_type": "code",
   "execution_count": null,
   "id": "b33b7e83-3a12-4a3f-a799-48d62aa9052d",
   "metadata": {},
   "outputs": [],
   "source": [
    "# Note: each training step is performed on one batch of training\n",
    "# data, so a number (dataset_size / batch_size) of training steps\n",
    "# corresponds to an epoch.\n",
    "for i in range(20):\n",
    "    training_step_counter += 1\n",
    "    \n",
    "    t_i = datetime.now()\n",
    "    \n",
    "    batch = next(iter(training_data))\n",
    "\n",
    "    metrics_dict = dcgan_model.train_step(batch)\n",
    "\n",
    "    t_f = datetime.now()\n",
    "\n",
    "    time_deltas.append((t_f - t_i) / timedelta(seconds=1.))\n",
    "    \n",
    "    training_history.append(metrics_dict)\n",
    "\n",
    "    print(\n",
    "        f'Training step: {training_step_counter}'\n",
    "        f' | Time delta: {time_deltas[-1]}'\n",
    "        f' | Discriminator loss: {metrics_dict[\"d_loss\"]}'\n",
    "        f' | Generator loss: {metrics_dict[\"g_loss\"]}'\n",
    "    )"
   ]
  },
  {
   "cell_type": "code",
   "execution_count": null,
   "id": "9972a9aa-0d50-473c-a201-26070ef13700",
   "metadata": {},
   "outputs": [],
   "source": [
    "metrics_history = tf.constant([[metrics['d_loss'].numpy(), metrics['g_loss'].numpy()] for metrics in training_history]).numpy()\n",
    "\n",
    "fig, axs = plt.subplots(ncols=1, nrows=2, figsize=(14, 6), sharex=True)\n",
    "\n",
    "sns.lineplot(\n",
    "    x=range(metrics_history.shape[0]),\n",
    "    y=metrics_history[:, 0],\n",
    "    color=sns.color_palette()[0],\n",
    "    label='Discriminator loss',\n",
    "    ax=axs[0]\n",
    ")\n",
    "\n",
    "plt.sca(axs[0])\n",
    "plt.title('Losses', fontsize=14)\n",
    "plt.ylabel('Value')\n",
    "plt.legend()\n",
    "\n",
    "sns.lineplot(\n",
    "    x=range(metrics_history.shape[0]),\n",
    "    y=metrics_history[:, 1],\n",
    "    color=sns.color_palette()[1],\n",
    "    label='Generator loss',\n",
    "    ax=axs[1]\n",
    ")\n",
    "\n",
    "plt.sca(axs[1])\n",
    "plt.ylabel('Value')\n",
    "plt.legend()\n",
    "plt.xlabel('Epoch')\n",
    "plt.xticks(range(metrics_history.shape[0]))\n",
    "\n",
    "# Training time distribution.\n",
    "fig = plt.figure(figsize=(14, 3))\n",
    "\n",
    "sns.histplot(\n",
    "    x=time_deltas\n",
    ")\n",
    "\n",
    "plt.title('Distribution of times for one training step', fontsize=14)\n",
    "plt.xlabel('s')"
   ]
  },
  {
   "cell_type": "markdown",
   "id": "7c746c14-fd6b-4f0e-8eac-ce9db926df50",
   "metadata": {},
   "source": [
    "**Observations:**\n",
    "- At least over the first few training steps, it looks like the discriminator loss increases while the generator one decreases. This may mean that the generator is learning to create progressively better images."
   ]
  },
  {
   "cell_type": "markdown",
   "id": "2438a9ce-84cb-4365-95f3-860cdab5a202",
   "metadata": {},
   "source": [
    "## Model training"
   ]
  },
  {
   "cell_type": "markdown",
   "id": "defc6347-3f63-46fa-b0a2-1ebae46742d7",
   "metadata": {},
   "source": [
    "**Warning:** even one epoch may take ages on an average machine given the number of parameters!"
   ]
  },
  {
   "cell_type": "code",
   "execution_count": null,
   "id": "d3f58a6e-fc89-4f16-b5b5-96931a7f1e8e",
   "metadata": {},
   "outputs": [],
   "source": [
    "epochs = 1\n",
    "\n",
    "training_history = dcgan_model.fit(\n",
    "    x=training_data,\n",
    "    epochs=epochs\n",
    ")"
   ]
  },
  {
   "cell_type": "markdown",
   "id": "9a40ad19-363f-4938-b7a9-2283e3b525e5",
   "metadata": {},
   "source": [
    "## Image generation"
   ]
  },
  {
   "cell_type": "markdown",
   "id": "77e5dc5c-9976-4d91-b34b-5a37afc0a333",
   "metadata": {},
   "source": [
    "Image generation works exactly as when fake images are generated during the training step: the generator works on latent vectors with shape `(latent_dim,)` and for each returns a tensor with shape `(N, N, 1)`, where `N` is the image dimension (in our case, `N=64`). The outputted pixel values are in the `[-1, 1]` range, as the original images after preprocessing."
   ]
  },
  {
   "cell_type": "code",
   "execution_count": null,
   "id": "0d92577a-4473-4aa5-92bd-608d3e585912",
   "metadata": {},
   "outputs": [],
   "source": [
    "def generate_images(dcgan, n_images):\n",
    "    \"\"\"\n",
    "    Given a DCGAN model, generates `n_images` images.\n",
    "    \"\"\"\n",
    "    return dcgan.generator(\n",
    "        tf.random.uniform(shape=(n_images, dcgan_model.latent_dim))\n",
    "    )"
   ]
  },
  {
   "cell_type": "code",
   "execution_count": null,
   "id": "38736e37-c055-4d0b-9d5e-9b7b2955e146",
   "metadata": {},
   "outputs": [],
   "source": [
    "n_images = 3\n",
    "\n",
    "generated_images = generate_images(dcgan_model, n_images)\n",
    "\n",
    "ncols = n_images\n",
    "\n",
    "fig, axs = plt.subplots(nrows=1, ncols=ncols, figsize=(14, 6))\n",
    "\n",
    "for col in range(ncols):\n",
    "    axs[col].imshow(\n",
    "        generated_images[col, ...],\n",
    "        cmap='gray'\n",
    "    )\n",
    "\n",
    "    axs[col].grid(False)"
   ]
  }
 ],
 "metadata": {
  "kernelspec": {
   "display_name": "Python 3 (ipykernel)",
   "language": "python",
   "name": "python3"
  },
  "language_info": {
   "codemirror_mode": {
    "name": "ipython",
    "version": 3
   },
   "file_extension": ".py",
   "mimetype": "text/x-python",
   "name": "python",
   "nbconvert_exporter": "python",
   "pygments_lexer": "ipython3",
   "version": "3.10.13"
  }
 },
 "nbformat": 4,
 "nbformat_minor": 5
}
